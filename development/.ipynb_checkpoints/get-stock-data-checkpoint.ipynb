{
 "cells": [
  {
   "cell_type": "markdown",
   "metadata": {
    "id": "o2EXmMU6a5jD"
   },
   "source": [
    "# Get Stock Price Data\n",
    "\n",
    "In this notebook, we use `yfinance` to download historical daily price data from Yahoo! finance. We only download the price data for BANG stocks (Blackberry, AMC, Nokia, Gamestop) because those stocks are the main focus of our project.\n",
    "\n",
    "Alternatively, the link below works as well\n",
    "\n",
    "https://finance.yahoo.com/quote/GME/history?period1=1609459200&period2=1626220800&interval=1d&filter=history&frequency=1d&includeAdjustedClose=true"
   ]
  },
  {
   "cell_type": "code",
   "execution_count": null,
   "metadata": {
    "id": "ettlQXOhZvY8"
   },
   "outputs": [],
   "source": [
    "import pandas as pd\n",
    "import yfinance as yf\n",
    "from datetime import date, timedelta"
   ]
  },
  {
   "cell_type": "code",
   "execution_count": null,
   "metadata": {
    "id": "lHjZKDSynrEg"
   },
   "outputs": [],
   "source": [
    "#stock_of_interest = 'BB' or 'AMC' or 'NOK' or 'GME'\n",
    "stock_of_interest = 'GME'"
   ]
  },
  {
   "cell_type": "code",
   "execution_count": null,
   "metadata": {
    "colab": {
     "base_uri": "https://localhost:8080/",
     "height": 235
    },
    "executionInfo": {
     "elapsed": 337,
     "status": "ok",
     "timestamp": 1628021167410,
     "user": {
      "displayName": "Heng jing han",
      "photoUrl": "",
      "userId": "01148339297681775778"
     },
     "user_tz": -480
    },
    "id": "olFncQw_ahNO",
    "outputId": "b83e193c-9e7b-4232-e990-5b62bb9dd1ba"
   },
   "outputs": [
    {
     "data": {
      "text/html": [
       "<div>\n",
       "<style scoped>\n",
       "    .dataframe tbody tr th:only-of-type {\n",
       "        vertical-align: middle;\n",
       "    }\n",
       "\n",
       "    .dataframe tbody tr th {\n",
       "        vertical-align: top;\n",
       "    }\n",
       "\n",
       "    .dataframe thead th {\n",
       "        text-align: right;\n",
       "    }\n",
       "</style>\n",
       "<table border=\"1\" class=\"dataframe\">\n",
       "  <thead>\n",
       "    <tr style=\"text-align: right;\">\n",
       "      <th></th>\n",
       "      <th>Open</th>\n",
       "      <th>High</th>\n",
       "      <th>Low</th>\n",
       "      <th>Close</th>\n",
       "      <th>Adj Close</th>\n",
       "      <th>Volume</th>\n",
       "    </tr>\n",
       "    <tr>\n",
       "      <th>Date</th>\n",
       "      <th></th>\n",
       "      <th></th>\n",
       "      <th></th>\n",
       "      <th></th>\n",
       "      <th></th>\n",
       "      <th></th>\n",
       "    </tr>\n",
       "  </thead>\n",
       "  <tbody>\n",
       "    <tr>\n",
       "      <th>2021-01-04</th>\n",
       "      <td>19.000000</td>\n",
       "      <td>19.100000</td>\n",
       "      <td>17.15</td>\n",
       "      <td>17.250000</td>\n",
       "      <td>17.250000</td>\n",
       "      <td>10022500</td>\n",
       "    </tr>\n",
       "    <tr>\n",
       "      <th>2021-01-05</th>\n",
       "      <td>17.350000</td>\n",
       "      <td>18.080000</td>\n",
       "      <td>17.23</td>\n",
       "      <td>17.370001</td>\n",
       "      <td>17.370001</td>\n",
       "      <td>4961500</td>\n",
       "    </tr>\n",
       "    <tr>\n",
       "      <th>2021-01-06</th>\n",
       "      <td>17.340000</td>\n",
       "      <td>18.980000</td>\n",
       "      <td>17.33</td>\n",
       "      <td>18.360001</td>\n",
       "      <td>18.360001</td>\n",
       "      <td>6056200</td>\n",
       "    </tr>\n",
       "    <tr>\n",
       "      <th>2021-01-07</th>\n",
       "      <td>18.469999</td>\n",
       "      <td>19.450001</td>\n",
       "      <td>18.02</td>\n",
       "      <td>18.080000</td>\n",
       "      <td>18.080000</td>\n",
       "      <td>6129300</td>\n",
       "    </tr>\n",
       "    <tr>\n",
       "      <th>2021-01-08</th>\n",
       "      <td>18.180000</td>\n",
       "      <td>18.299999</td>\n",
       "      <td>17.08</td>\n",
       "      <td>17.690001</td>\n",
       "      <td>17.690001</td>\n",
       "      <td>6482000</td>\n",
       "    </tr>\n",
       "  </tbody>\n",
       "</table>\n",
       "</div>"
      ],
      "text/plain": [
       "                 Open       High    Low      Close  Adj Close    Volume\n",
       "Date                                                                   \n",
       "2021-01-04  19.000000  19.100000  17.15  17.250000  17.250000  10022500\n",
       "2021-01-05  17.350000  18.080000  17.23  17.370001  17.370001   4961500\n",
       "2021-01-06  17.340000  18.980000  17.33  18.360001  18.360001   6056200\n",
       "2021-01-07  18.469999  19.450001  18.02  18.080000  18.080000   6129300\n",
       "2021-01-08  18.180000  18.299999  17.08  17.690001  17.690001   6482000"
      ]
     },
     "execution_count": 4,
     "metadata": {
      "tags": []
     },
     "output_type": "execute_result"
    }
   ],
   "source": [
    "#to get data from january to june\n",
    "\n",
    "df = yf.download(stock_of_interest, \n",
    "                      start='2021-01-01', \n",
    "                      end='2021-06-30', \n",
    "                      progress=False)\n",
    "df.to_csv(stock_of_interest + '.csv')\n",
    "df.head()"
   ]
  },
  {
   "cell_type": "code",
   "execution_count": null,
   "metadata": {
    "colab": {
     "base_uri": "https://localhost:8080/",
     "height": 110
    },
    "executionInfo": {
     "elapsed": 320,
     "status": "ok",
     "timestamp": 1628021176933,
     "user": {
      "displayName": "Heng jing han",
      "photoUrl": "",
      "userId": "01148339297681775778"
     },
     "user_tz": -480
    },
    "id": "Fb8xcAT7Zwhm",
    "outputId": "4a9ae154-266c-48c2-f3fd-9786cbb14c9f"
   },
   "outputs": [
    {
     "data": {
      "text/html": [
       "<div>\n",
       "<style scoped>\n",
       "    .dataframe tbody tr th:only-of-type {\n",
       "        vertical-align: middle;\n",
       "    }\n",
       "\n",
       "    .dataframe tbody tr th {\n",
       "        vertical-align: top;\n",
       "    }\n",
       "\n",
       "    .dataframe thead th {\n",
       "        text-align: right;\n",
       "    }\n",
       "</style>\n",
       "<table border=\"1\" class=\"dataframe\">\n",
       "  <thead>\n",
       "    <tr style=\"text-align: right;\">\n",
       "      <th></th>\n",
       "      <th>Open</th>\n",
       "      <th>High</th>\n",
       "      <th>Low</th>\n",
       "      <th>Close</th>\n",
       "      <th>Adj Close</th>\n",
       "      <th>Volume</th>\n",
       "    </tr>\n",
       "    <tr>\n",
       "      <th>Date</th>\n",
       "      <th></th>\n",
       "      <th></th>\n",
       "      <th></th>\n",
       "      <th></th>\n",
       "      <th></th>\n",
       "      <th></th>\n",
       "    </tr>\n",
       "  </thead>\n",
       "  <tbody>\n",
       "    <tr>\n",
       "      <th>2021-08-02</th>\n",
       "      <td>162.0</td>\n",
       "      <td>163.589996</td>\n",
       "      <td>155.059998</td>\n",
       "      <td>157.649994</td>\n",
       "      <td>157.649994</td>\n",
       "      <td>2528200</td>\n",
       "    </tr>\n",
       "  </tbody>\n",
       "</table>\n",
       "</div>"
      ],
      "text/plain": [
       "             Open        High         Low       Close   Adj Close   Volume\n",
       "Date                                                                      \n",
       "2021-08-02  162.0  163.589996  155.059998  157.649994  157.649994  2528200"
      ]
     },
     "execution_count": 5,
     "metadata": {
      "tags": []
     },
     "output_type": "execute_result"
    }
   ],
   "source": [
    "#to get data for one day\n",
    "\n",
    "today = date.today()\n",
    "\n",
    "df = yf.download(stock_of_interest, \n",
    "                      start=str(today - timedelta(days = 1)), \n",
    "                      #start=str(today - timedelta(days = 2)), \n",
    "                      end=str(today), \n",
    "                      progress=False)\n",
    "df.to_csv(stock_of_interest + '.csv')\n",
    "df.head()"
   ]
  },
  {
   "cell_type": "code",
   "execution_count": null,
   "metadata": {
    "colab": {
     "base_uri": "https://localhost:8080/"
    },
    "executionInfo": {
     "elapsed": 295,
     "status": "ok",
     "timestamp": 1628021178943,
     "user": {
      "displayName": "Heng jing han",
      "photoUrl": "",
      "userId": "01148339297681775778"
     },
     "user_tz": -480
    },
    "id": "9PYrU77dTKm6",
    "outputId": "705a732e-50e4-4a3d-ff13-ef48636812b0"
   },
   "outputs": [
    {
     "name": "stdout",
     "output_type": "stream",
     "text": [
      "-0.026851889527874227\n"
     ]
    }
   ],
   "source": [
    "price_change = ((df['Close'] - df['Open']) / df['Open'])[0]\n",
    "print(price_change)"
   ]
  }
 ],
 "metadata": {
  "colab": {
   "collapsed_sections": [],
   "name": "getstockdata.ipynb",
   "provenance": []
  },
  "kernelspec": {
   "display_name": "Python 3",
   "language": "python",
   "name": "python3"
  },
  "language_info": {
   "codemirror_mode": {
    "name": "ipython",
    "version": 3
   },
   "file_extension": ".py",
   "mimetype": "text/x-python",
   "name": "python",
   "nbconvert_exporter": "python",
   "pygments_lexer": "ipython3",
   "version": "3.8.8"
  }
 },
 "nbformat": 4,
 "nbformat_minor": 2
}
